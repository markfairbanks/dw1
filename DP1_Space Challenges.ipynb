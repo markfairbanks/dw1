{
 "cells": [
  {
   "cell_type": "markdown",
   "metadata": {},
   "source": [
    "# Development Program : #1\n",
    "\n",
    "Print(\"Hello Fards!\")\n"
   ]
  },
  {
   "cell_type": "markdown",
   "metadata": {},
   "source": [
    "# Challenge: Space Challenges\n",
    "\n",
    "Reference Link: https://github.com/rfordatascience/tidytuesday/tree/master/data/2019/2019-01-15\n",
    "\n",
    "\n",
    "1) Initial Data Setup\n",
    "  + The Soviet Union was renamed to Russia partway through the dataset.In the state_code column change all occurrences of \"SU\" to \"RU\"\n",
    "  +  Exclude agency_type \"private\", \"startup\" from the dataset\n",
    "  +  Add a column called launch_month that extracts the month from the launch_date column\n",
    "  \n",
    "2) Who are the top 4 countries (state_code) in space launch count?\n",
    "  +  Create a data frame that shows each country, their respective count of launches, and their rank\n",
    "  \n",
    "3) For the top two countries (state_code) what is their success rate by decade\n",
    "  +  Note: The category column marks whether a launch is successful. A launch is a success if category is \"O\" and unsuccessful if category is \"F\".\n",
    "  + Success rate by decade is defined as the percentage of successful launches over all the launches performed by a particular country in a decade."
   ]
  },
  {
   "cell_type": "code",
   "execution_count": 3,
   "metadata": {},
   "outputs": [],
   "source": [
    "import pandas as pd \n",
    "launches_df = (pd.read_csv('https://raw.githubusercontent.com/rfordatascience/' + \\\n",
    "                           'tidytuesday/master/data/2019/2019-01-15/launches.csv')\n",
    "              )"
   ]
  }
 ],
 "metadata": {
  "kernelspec": {
   "display_name": "Python 3",
   "language": "python",
   "name": "python3"
  },
  "language_info": {
   "codemirror_mode": {
    "name": "ipython",
    "version": 3
   },
   "file_extension": ".py",
   "mimetype": "text/x-python",
   "name": "python",
   "nbconvert_exporter": "python",
   "pygments_lexer": "ipython3",
   "version": "3.7.4"
  }
 },
 "nbformat": 4,
 "nbformat_minor": 2
}
