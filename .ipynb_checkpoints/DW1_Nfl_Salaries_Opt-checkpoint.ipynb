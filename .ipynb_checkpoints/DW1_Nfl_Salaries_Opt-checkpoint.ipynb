{
 "cells": [
  {
   "cell_type": "markdown",
   "metadata": {},
   "source": [
    "# Development Workshop : #1-Opt\n",
    "\n",
    "Print(\"Hello Fards!\")"
   ]
  },
  {
   "cell_type": "markdown",
   "metadata": {},
   "source": [
    "# Challenge: NFL Salaries\n",
    "\n",
    "\n",
    "Description:\n",
    "\n",
    "The dataset contains the salaries for the top 100 players for each position for the years 2011-2018.\n",
    "\n",
    "Challenge:\n",
    "\n",
    "1) Initial Data Setup\n",
    "\n",
    "  +  Clean the column names of all columns by converting them to all lower case \n",
    "\n",
    "2) What is the average salary for quarterbacks (Columnname : Quarterback) by year?\n",
    "\n",
    "3) What is the average salary by year for each position, excludes special teamers (Columnname : Special Teamer)?\n",
    "  +  Hint: Transpose the dataset into \"long\" format to help with this step.\n",
    "  \n",
    "4) Convert the average salary by year for each position to a string prefixed with $ (e.g. 100000 becomes $100000)\n",
    "\n"
   ]
  }
 ],
 "metadata": {
  "kernelspec": {
   "display_name": "Python 3",
   "language": "python",
   "name": "python3"
  },
  "language_info": {
   "codemirror_mode": {
    "name": "ipython",
    "version": 3
   },
   "file_extension": ".py",
   "mimetype": "text/x-python",
   "name": "python",
   "nbconvert_exporter": "python",
   "pygments_lexer": "ipython3",
   "version": "3.7.4"
  }
 },
 "nbformat": 4,
 "nbformat_minor": 2
}
